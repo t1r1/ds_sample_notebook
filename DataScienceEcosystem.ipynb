{
 "cells": [
  {
   "cell_type": "markdown",
   "id": "a5819b65",
   "metadata": {},
   "source": [
    "# Data Science Tools and Ecosystem\n"
   ]
  },
  {
   "cell_type": "markdown",
   "id": "79ae124d",
   "metadata": {},
   "source": [
    "In this notebook, Data Science Tools and Ecosystem are summarized."
   ]
  },
  {
   "cell_type": "markdown",
   "id": "3fcfdf40",
   "metadata": {},
   "source": [
    "Some of the popular languages that Data Scientists use are:\n",
    "\n",
    "1. Python\n",
    "2. R\n",
    "3. Java (for Apache Hadoop)\n",
    "4. SQL for relational databases\n",
    "5. C++"
   ]
  },
  {
   "cell_type": "markdown",
   "id": "7f2def04",
   "metadata": {},
   "source": [
    "Some of the commonly used libraries used by Data Scientists include:\n",
    "\n",
    "1. Pandas (Python)\n",
    "2. Numpy (Python)\n",
    "3. dplyr (R)\n",
    "4. ggplot2 (R)\n",
    "5. Ski Py and Mathplot lib (Python)"
   ]
  },
  {
   "cell_type": "markdown",
   "id": "162c05f1",
   "metadata": {},
   "source": [
    "# Data Science Tools\n",
    "\n",
    "<table>\n",
    "<tr><td>Jupyter Notebook</td><td>✅</td></tr>\n",
    "<tr><td>RStudio</td><td>✅</td></tr>\n",
    "<tr><td>Apache Zeppelin</td><td>✅</td></tr>\n",
    "</table>"
   ]
  },
  {
   "cell_type": "markdown",
   "id": "b31e8479",
   "metadata": {},
   "source": [
    "### Below are a few examples of evaluating arithmetic expressions in Python.\n",
    "\n"
   ]
  },
  {
   "cell_type": "code",
   "execution_count": 8,
   "id": "44333360",
   "metadata": {},
   "outputs": [
    {
     "data": {
      "text/plain": [
       "17"
      ]
     },
     "execution_count": 8,
     "metadata": {},
     "output_type": "execute_result"
    }
   ],
   "source": [
    "(3*4)+5 # This a simple arithmetic expression to mutiply then add integers."
   ]
  },
  {
   "cell_type": "code",
   "execution_count": 9,
   "id": "83b761db",
   "metadata": {},
   "outputs": [
    {
     "name": "stdout",
     "output_type": "stream",
     "text": [
      "3\n"
     ]
    }
   ],
   "source": [
    "# This will convert 200 minutes to hours by diving by 60\n",
    "minutes = 200\n",
    "hours = minutes // 60\n",
    "print(hours)"
   ]
  },
  {
   "cell_type": "markdown",
   "id": "3665d769",
   "metadata": {},
   "source": [
    "**Objectives:**\n",
    "- List popular languages for Data Science\n",
    "- List popular libraries for Data Science\n",
    "- Demonstrate and run code cells with arithmetic expressions\n",
    "- Demonstrate markdown cells with HTML markup - tables\n",
    "- Present a simple Jupyter notebook that runs in Vscode via Python Conda env."
   ]
  },
  {
   "cell_type": "markdown",
   "id": "d9dc992e",
   "metadata": {},
   "source": [
    "## Author\n",
    "\n",
    "Name: Maria Vorobeva"
   ]
  }
 ],
 "metadata": {
  "kernelspec": {
   "display_name": "base",
   "language": "python",
   "name": "python3"
  },
  "language_info": {
   "codemirror_mode": {
    "name": "ipython",
    "version": 3
   },
   "file_extension": ".py",
   "mimetype": "text/x-python",
   "name": "python",
   "nbconvert_exporter": "python",
   "pygments_lexer": "ipython3",
   "version": "3.11.11"
  }
 },
 "nbformat": 4,
 "nbformat_minor": 5
}
